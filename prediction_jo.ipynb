{
 "cells": [
  {
   "cell_type": "code",
   "execution_count": null,
   "id": "initial_id",
   "metadata": {
    "collapsed": true,
    "id": "initial_id",
    "is_executing": true
   },
   "outputs": [],
   "source": [
    "import numpy as np\n",
    "import pandas as pd\n",
    "import matplotlib as mpl\n",
    "import matplotlib.pyplot as plt\n",
    "import sqlite3\n",
    "from peewee import SqliteDatabase, Model, CharField, IntegerField\n",
    "from sqlalchemy import create_engine\n",
    "from sklearn.model_selection import train_test_split\n",
    "from sklearn.preprocessing import OneHotEncoder\n",
    "from sklearn.ensemble import RandomForestClassifier\n",
    "from sklearn.metrics import accuracy_score, classification_report\n",
    "from sklearn.ensemble import RandomForestRegressor\n",
    "from sklearn.linear_model import LinearRegression\n",
    "from sklearn.metrics import mean_absolute_error\n",
    "from matplotlib import pyplot as plt\n",
    "import seaborn as sns\n"
   ]
  },
  {
   "cell_type": "code",
   "execution_count": null,
   "outputs": [],
   "source": [
    "sqlite_file = 'country_predict.db'\n",
    "conn = sqlite3.connect(sqlite_file)\n",
    "query = 'SELECT * FROM CountryData'\n",
    "data_from_db = pd.read_sql_query(query, conn)\n",
    "conn.close()\n",
    "data_from_db.head()"
   ],
   "metadata": {
    "colab": {
     "base_uri": "https://localhost:8080/",
     "height": 206
    },
    "id": "4be09e086d0c3836",
    "outputId": "a4b47ca6-5bcf-4211-869c-0b6d821e9f58",
    "is_executing": true
   },
   "id": "4be09e086d0c3836"
  },
  {
   "cell_type": "code",
   "source": [
    "data_for_france = data_from_db[data_from_db['country']=='France']\n",
    "data_for_france.head(15)"
   ],
   "metadata": {
    "id": "zot7vsfsCT5S",
    "colab": {
     "base_uri": "https://localhost:8080/",
     "height": 520
    },
    "outputId": "29c200ef-4348-4768-ff49-3b575194ae08",
    "is_executing": true
   },
   "id": "zot7vsfsCT5S",
   "execution_count": null,
   "outputs": []
  },
  {
   "source": [
    "def _plot_series(series, series_name, series_index=0):\n",
    "  palette = list(sns.palettes.mpl_palette('Dark2'))\n",
    "  xs = series['year']\n",
    "  ys = series['total_medaille']\n",
    "\n",
    "  plt.plot(xs, ys, label=series_name, color=palette[series_index % len(palette)])\n",
    "\n",
    "fig, ax = plt.subplots(figsize=(10, 5.2), layout='constrained')\n",
    "df_sorted = data_for_france.sort_values('year', ascending=True)\n",
    "_plot_series(df_sorted, '')\n",
    "sns.despine(fig=fig, ax=ax)\n",
    "plt.xlabel('Année')\n",
    "_ = plt.ylabel('total de medaille')"
   ],
   "cell_type": "code",
   "metadata": {
    "colab": {
     "base_uri": "https://localhost:8080/",
     "height": 548
    },
    "id": "wEHRz4SgCGiT",
    "outputId": "09ee6ff3-775d-4e68-8339-8541577bd7f0",
    "is_executing": true
   },
   "id": "wEHRz4SgCGiT",
   "execution_count": null,
   "outputs": []
  },
  {
   "cell_type": "markdown",
   "source": [
    "Ici nous avons un graphique représentant l'évolution des médailles que la France a gagné a chaque compétition."
   ],
   "metadata": {
    "id": "BrekD-UOEJfP"
   },
   "id": "BrekD-UOEJfP"
  },
  {
   "cell_type": "code",
   "source": [
    "train_data, test_data, train_target, test_target = train_test_split(\n",
    "    data_for_france[['year']], data_for_france['total_medaille'], test_size=0.2, random_state=42\n",
    ")\n",
    "\n",
    "model = LinearRegression()\n",
    "model.fit(train_data, train_target)\n",
    "\n",
    "predictions = model.predict(test_data)\n",
    "\n",
    "next_year = 2024\n",
    "\n",
    "prediction_next_JO = model.predict([[next_year]])\n",
    "print(f'Prédiction pour les JO {next_year}: {prediction_next_JO[0]} médailles')\n"
   ],
   "metadata": {
    "id": "nUJOEgZ0OyhF",
    "colab": {
     "base_uri": "https://localhost:8080/"
    },
    "outputId": "5e64a6b8-71ec-4a1b-dc55-1f81cb7248fe",
    "is_executing": true
   },
   "id": "nUJOEgZ0OyhF",
   "execution_count": null,
   "outputs": []
  },
  {
   "cell_type": "markdown",
   "source": [
    "La prédiction concernant le nombre de médailles que la France devrait gagner lors des prochains JO est donc de 35."
   ],
   "metadata": {
    "id": "mPwtoXxGEm14"
   },
   "id": "mPwtoXxGEm14"
  },
  {
   "cell_type": "code",
   "source": [
    "features = ['year', 'country']\n",
    "target = 'total_medaille'\n",
    "\n",
    "train_data, test_data, train_target, test_target = train_test_split(\n",
    "    data_from_db[features],\n",
    "    data_from_db[target],\n",
    "    test_size=0.2,\n",
    "    random_state=42\n",
    ")\n",
    "\n",
    "model = RandomForestRegressor()\n",
    "model.fit(train_data, train_target)\n",
    "\n",
    "predictions = model.predict(test_data)\n",
    "\n",
    "\n",
    "future_data = pd.DataFrame({'year': [2024], 'country_noc': ['FRA']})\n",
    "future_predictions = model.predict(future_data)\n",
    "\n",
    "predicted_countries = data_from_db[data_from_db['year'] == 2024]\n",
    "predicted_countries['predicted_medals'] = model.predict(predicted_countries[features])\n",
    "countries_with_at_least_2_medals = predicted_countries[predicted_countries['predicted_medals'] >= 2]\n",
    "\n",
    "print('Pays avec au moins 2 médailles prédites pour les prochains JO :')\n",
    "print(countries_with_at_least_2_medals[['country_noc', 'predicted_medals']])"
   ],
   "metadata": {
    "colab": {
     "base_uri": "https://localhost:8080/",
     "height": 390
    },
    "id": "9YY7iqUQE6It",
    "outputId": "880ef0e8-d668-4104-da84-d4933229b86b",
    "is_executing": true
   },
   "id": "9YY7iqUQE6It",
   "execution_count": null,
   "outputs": []
  },
  {
   "cell_type": "markdown",
   "source": [
    "J'ai eu quelques soucis avec le code ci dessous. Je pense que cela est dues au fait que les données soient des chaînes de caractères et non des nombres, mais je n'ai pas réussi à le corriger en essayant différentes choses. J'ai donc réussi à avoir la prédictions du nombre de médailles pour la France, mais je n'ai pas réussi les 2 autres prédictions. Je laisse le code qui ne fonctionne pas afin de montrer quand même ce que j'avais fait.\n",
    "Le dataset séléctionné au départ n'était pas bon, et j'ai eu quelques erreurs à cause de ca. J'avais du en changer et refaire mes prévisions."
   ],
   "metadata": {
    "collapsed": false
   },
   "id": "5570a4da804d0831"
  },
  {
   "cell_type": "markdown",
   "source": [
    "6 - D'près l'article proposé, on peut voir qu'il est très compliqué de pouvoir prédire avec exactitude des résultats sur le théme des Jo, en particulier à cause d'événements extérieur qui peuvent interférer avec les résultats rééls. Par exemple le COVID dans ce cas précis. Les 20 premières nations ont eu des résultats innatendu par rapport à ce qui était prédit. Cela pourrait être également le cas pour les prochains JO avec par exemple la guerre en Ukraine ou la Russie et l'Ukraine (et probablement d'autres pays) seront impactés par la guerre, et n'auront pas les résultats qui auraient pu être prédit par rapport aux données des derniers JO Olympiques.\n",
    "\n",
    "7 - La conclusion de cette étude, et que l'on peut avoir une certaines tendances qui peut ressortir, mais il est assez compliqué d'avoir des résultats vraiment fiable. Beaucoup de facteur extérieur sont à prendre en compte, et certains ne peuvent être intégré à notre modéle de predictions.\n",
    "\n",
    "8 - Pour ce projet, le Big Data n'est pas vraiment utile. Les quantités de données à traiter ne sont pas assez importantes pour avoir besoin d'outils supplémentaires. Le Big Data devient utile lorsque l'on a des quantités de données bien plus conséquentes à traiter que celles ci."
   ],
   "metadata": {
    "collapsed": false
   },
   "id": "4e6fdb4576f7d4f2"
  }
 ],
 "metadata": {
  "kernelspec": {
   "display_name": "Python 3",
   "language": "python",
   "name": "python3"
  },
  "language_info": {
   "codemirror_mode": {
    "name": "ipython",
    "version": 2
   },
   "file_extension": ".py",
   "mimetype": "text/x-python",
   "name": "python",
   "nbconvert_exporter": "python",
   "pygments_lexer": "ipython2",
   "version": "2.7.6"
  },
  "colab": {
   "provenance": []
  }
 },
 "nbformat": 4,
 "nbformat_minor": 5
}
